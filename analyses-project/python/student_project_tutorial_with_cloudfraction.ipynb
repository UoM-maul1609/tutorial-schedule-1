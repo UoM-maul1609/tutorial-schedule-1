{
 "cells": [
  {
   "cell_type": "markdown",
   "id": "19291318",
   "metadata": {},
   "source": [
    "## Cloud Fraction & Water Vapour Analysis\n",
    "This section reproduces the analysis from `cloud_fraction.py`. We calculate global area-weighted means and standard errors for ERA5 monthly means (2005–2025) for:\n",
    "\n",
    "- **TCC** (total cloud fraction, 0..1)\n",
    "- **TCLW** (total column cloud liquid water, kg m$^{-2}$)\n",
    "- **TCIW** (total column cloud ice water, kg m$^{-2}$)\n",
    "- **TCWV** (total column water vapour, kg m$^{-2}$)\n",
    "\n",
    "The results will appear inline as tables and plots, and can be saved as CSV."
   ]
  },
  {
   "cell_type": "code",
   "execution_count": null,
   "id": "264b4083",
   "metadata": {},
   "outputs": [],
   "source": [
    "# Imports for cloud fraction analysis\n",
    "import glob\n",
    "import numpy as np\n",
    "import pandas as pd\n",
    "from netCDF4 import Dataset\n",
    "import matplotlib.pyplot as plt\n",
    "\n",
    "# Ensure plots appear inline\n",
    "%matplotlib inline\n"
   ]
  },
  {
   "cell_type": "code",
   "execution_count": null,
   "id": "7a3e070d",
   "metadata": {},
   "outputs": [],
   "source": [
    "# Set path to ERA5 NetCDF files (update this to your local folder)\n",
    "data_path = \"/path/to/ERA5/files/*.nc\"\n",
    "files = sorted(glob.glob(data_path))\n",
    "\n",
    "print(f\"Found {len(files)} files\")"
   ]
  },
  {
   "cell_type": "code",
   "execution_count": null,
   "id": "769fc11b",
   "metadata": {},
   "outputs": [],
   "source": [
    "# Function to compute area-weighted mean over latitude/longitude\n",
    "def area_weighted_mean(var, lats):\n",
    "    weights = np.cos(np.deg2rad(lats))\n",
    "    return np.average(var, axis=(-2, -1), weights=weights)\n",
    "\n",
    "# Loop through files and compute means and standard errors\n",
    "results = []\n",
    "for f in files:\n",
    "    with Dataset(f) as ds:\n",
    "        # Example assumes variables named 'tcc', 'tclw', 'tciw', 'tcwv'\n",
    "        tcc = ds.variables['tcc'][:].squeeze()\n",
    "        tclw = ds.variables['tclw'][:].squeeze()\n",
    "        tciw = ds.variables['tciw'][:].squeeze()\n",
    "        tcwv = ds.variables['tcwv'][:].squeeze()\n",
    "        lats = ds.variables['latitude'][:]\n",
    "        \n",
    "        # Compute means\n",
    "        means = [area_weighted_mean(arr, lats) for arr in [tcc, tclw, tciw, tcwv]]\n",
    "        ses = [arr.std() / np.sqrt(arr.size) for arr in [tcc, tclw, tciw, tcwv]]\n",
    "        \n",
    "        # Parse year, month from filename (assumes contains YYYYMM)\n",
    "        import re\n",
    "        m = re.search(r\"(\\d{4})(\\d{2})\", f)\n",
    "        year, month = int(m.group(1)), int(m.group(2))\n",
    "        \n",
    "        results.append([year, month] + means + ses)\n",
    "\n",
    "columns = [\"year\",\"month\",\n",
    "           \"tcc_mean\",\"tclw_mean\",\"tciw_mean\",\"tcwv_mean\",\n",
    "           \"tcc_se\",\"tclw_se\",\"tciw_se\",\"tcwv_se\"]\n",
    "df_cloud = pd.DataFrame(results, columns=columns)\n",
    "\n",
    "# Display table inline\n",
    "df_cloud.head()"
   ]
  },
  {
   "cell_type": "code",
   "execution_count": null,
   "id": "25bca8af",
   "metadata": {},
   "outputs": [],
   "source": [
    "# Plot timeseries inline\n",
    "plt.figure(figsize=(10,6))\n",
    "plt.plot(pd.to_datetime(df_cloud[['year','month']].assign(day=1)),\n",
    "         df_cloud['tcc_mean'], label='TCC (cloud fraction)')\n",
    "plt.plot(pd.to_datetime(df_cloud[['year','month']].assign(day=1)),\n",
    "         df_cloud['tcwv_mean'], label='TCWV (water vapour)')\n",
    "plt.xlabel('Time')\n",
    "plt.ylabel('Value')\n",
    "plt.title('ERA5 Global Means')\n",
    "plt.legend()\n",
    "plt.show()"
   ]
  },
  {
   "cell_type": "code",
   "execution_count": null,
   "id": "6c3657aa",
   "metadata": {},
   "outputs": [],
   "source": [
    "# Save results to CSV (optional)\n",
    "df_cloud.to_csv(\"cloud_tcwv_globals_ERA5_2005_2025.csv\", index=False)"
   ]
  },
  {
   "cell_type": "markdown",
   "id": "45de96f6",
   "metadata": {},
   "source": [
    "# Student Project Tutorial\n",
    "This notebook combines multiple analysis steps into a single workflow."
   ]
  },
  {
   "cell_type": "markdown",
   "id": "30506a5e",
   "metadata": {},
   "source": [
    "## Overall Data Analysis"
   ]
  },
  {
   "cell_type": "code",
   "execution_count": null,
   "id": "9690cd59",
   "metadata": {},
   "outputs": [],
   "source": [
    "# Compute summary statistics if data loaded\n",
    "# (Assumes df_cloud or another DataFrame is present)\n",
    "summary_stats = df_cloud.describe().T\n",
    "summary_stats"
   ]
  }
 ],
 "metadata": {},
 "nbformat": 4,
 "nbformat_minor": 5
}
